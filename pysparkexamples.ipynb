{
 "cells": [
  {
   "cell_type": "code",
   "execution_count": 4,
   "metadata": {},
   "outputs": [],
   "source": [
    "from pyspark.sql import SparkSession\n",
    "spark=SparkSession.builder.appName(\"Set Operation\").getOrCreate()\n"
   ]
  },
  {
   "cell_type": "code",
   "execution_count": 8,
   "metadata": {},
   "outputs": [],
   "source": [
    "master_df = spark.read.csv(\"C:\\\\Users\\\\admin\\\\Desktop\\\\Book1.csv\",header=True)"
   ]
  },
  {
   "cell_type": "code",
   "execution_count": 9,
   "metadata": {},
   "outputs": [
    {
     "name": "stdout",
     "output_type": "stream",
     "text": [
      "+-------+------------+------+\n",
      "|Roll_no|Student_name|Mobile|\n",
      "+-------+------------+------+\n",
      "|   1001|       Akash|123456|\n",
      "|   1002|         Anu|903675|\n",
      "|   1003|     Prakash| 23456|\n",
      "|   1004|        Mani|337456|\n",
      "|   1005|        Manu|820456|\n",
      "|   1006|      Magesh|987456|\n",
      "|   1007|        Balu|654321|\n",
      "|   1008|      Barath|765456|\n",
      "|   1009|     Patrick| 98765|\n",
      "+-------+------------+------+\n",
      "\n"
     ]
    }
   ],
   "source": [
    "master_df.show()"
   ]
  },
  {
   "cell_type": "code",
   "execution_count": 15,
   "metadata": {},
   "outputs": [
    {
     "name": "stdout",
     "output_type": "stream",
     "text": [
      "+-------+------------+------+\n",
      "|Roll_no|Student_name|Mobile|\n",
      "+-------+------------+------+\n",
      "|   1001|       Akash|123456|\n",
      "|   1002|         Anu|903675|\n",
      "|   1003|     Prakash| 23456|\n",
      "|   1004|        Mani|337456|\n",
      "|   1008|      Barath|765456|\n",
      "|   1009|     Patrick| 98765|\n",
      "+-------+------------+------+\n",
      "\n"
     ]
    }
   ],
   "source": [
    "daily_df = spark.read.csv(\"C://Users//admin//Desktop/Book2.csv\",header=True)\n",
    "daily_df.show()"
   ]
  },
  {
   "cell_type": "code",
   "execution_count": 11,
   "metadata": {},
   "outputs": [
    {
     "name": "stdout",
     "output_type": "stream",
     "text": [
      "+-------+------------+------+\n",
      "|Roll_no|Student_name|Mobile|\n",
      "+-------+------------+------+\n",
      "|   1002|         Anu|903675|\n",
      "|   1004|        Mani|337456|\n",
      "|   1009|     Patrick| 98765|\n",
      "|   1003|     Prakash| 23456|\n",
      "|   1008|      Barath|765456|\n",
      "|   1001|       Akash|123456|\n",
      "+-------+------------+------+\n",
      "\n"
     ]
    }
   ],
   "source": [
    "# it has been giving mathing records from the both dataframes\n",
    "master_df.intersect(daily_df).show()"
   ]
  },
  {
   "cell_type": "code",
   "execution_count": 14,
   "metadata": {},
   "outputs": [
    {
     "name": "stdout",
     "output_type": "stream",
     "text": [
      "+-------+------------+------+\n",
      "|Roll_no|Student_name|Mobile|\n",
      "+-------+------------+------+\n",
      "|   1005|        Manu|820456|\n",
      "|   1006|      Magesh|987456|\n",
      "|   1007|        Balu|654321|\n",
      "+-------+------------+------+\n",
      "\n"
     ]
    }
   ],
   "source": [
    "\n",
    "# it has been giving non-matching records from the both dataframes\n",
    "master_df.exceptAll(daily_df).show()"
   ]
  },
  {
   "cell_type": "code",
   "execution_count": 21,
   "metadata": {},
   "outputs": [
    {
     "name": "stdout",
     "output_type": "stream",
     "text": [
      "+-------+------------+------+\n",
      "|Roll_no|Student_name|Mobile|\n",
      "+-------+------------+------+\n",
      "|   1001|       Akash|123456|\n",
      "|   1002|         Anu|903675|\n",
      "|   1003|     Prakash| 23456|\n",
      "|   1004|        Mani|337456|\n",
      "|   1005|        Manu|820456|\n",
      "|   1006|      Magesh|987456|\n",
      "|   1007|        Balu|654321|\n",
      "|   1008|      Barath|765456|\n",
      "|   1009|     Patrick| 98765|\n",
      "|   1001|       Akash|123456|\n",
      "|   1002|         Anu|903675|\n",
      "|   1003|     Prakash| 23456|\n",
      "|   1004|        Mani|337456|\n",
      "|   1008|      Barath|765456|\n",
      "|   1009|     Patrick| 98765|\n",
      "+-------+------------+------+\n",
      "\n"
     ]
    }
   ],
   "source": [
    "# using the union\n",
    "master_df.union(daily_df).show()"
   ]
  }
 ],
 "metadata": {
  "kernelspec": {
   "display_name": "Python 3",
   "language": "python",
   "name": "python3"
  },
  "language_info": {
   "codemirror_mode": {
    "name": "ipython",
    "version": 3
   },
   "file_extension": ".py",
   "mimetype": "text/x-python",
   "name": "python",
   "nbconvert_exporter": "python",
   "pygments_lexer": "ipython3",
   "version": "3.8.3"
  }
 },
 "nbformat": 4,
 "nbformat_minor": 4
}
